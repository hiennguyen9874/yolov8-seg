{
 "cells": [
  {
   "cell_type": "code",
   "execution_count": 5,
   "metadata": {},
   "outputs": [],
   "source": [
    "import os\n",
    "import sys\n",
    "\n",
    "sys.path.append(os.path.join(os.path.abspath(''), '..'))"
   ]
  },
  {
   "cell_type": "code",
   "execution_count": 6,
   "metadata": {},
   "outputs": [],
   "source": [
    "import torch\n",
    "\n",
    "weights = \"yolov8l-seg.pt\"\n",
    "device = torch.device('cpu')"
   ]
  },
  {
   "cell_type": "code",
   "execution_count": 8,
   "metadata": {},
   "outputs": [
    {
     "name": "stderr",
     "output_type": "stream",
     "text": [
      "YOLOv8l-seg summary (fused): 295 layers, 45973568 parameters, 0 gradients, 220.5 GFLOPs\n"
     ]
    },
    {
     "data": {
      "text/plain": [
       "(torch.Size([4, 8400, 117]), torch.Size([4, 32, 160, 160]))"
      ]
     },
     "execution_count": 8,
     "metadata": {},
     "output_type": "execute_result"
    }
   ],
   "source": [
    "import os\n",
    "import sys\n",
    "import random\n",
    "import argparse\n",
    "import warnings\n",
    "import onnx\n",
    "import torch\n",
    "import torch.nn as nn\n",
    "from copy import deepcopy\n",
    "\n",
    "from ultralytics import YOLO\n",
    "from ultralytics.utils.torch_utils import select_device\n",
    "from ultralytics.nn.modules import C2f, Detect, RTDETRDecoder\n",
    "\n",
    "\n",
    "class WarpModel(nn.Module):\n",
    "    def __init__(self, weights: str = \"yolov8l-seg.pt\", nc: int = 80):\n",
    "        super().__init__()\n",
    "        self.nc = nc\n",
    "\n",
    "        self.model = YOLO(weights)\n",
    "        self.model = deepcopy(self.model.model).to(device)\n",
    "        for p in self.model.parameters():\n",
    "            p.requires_grad = False\n",
    "        self.model.eval()\n",
    "        self.model.float()\n",
    "        self.model = self.model.fuse()\n",
    "        for k, m in self.model.named_modules():\n",
    "            if isinstance(m, (Detect, RTDETRDecoder)):\n",
    "                m.dynamic = False\n",
    "                m.export = True\n",
    "                m.format = \"onnx\"\n",
    "            elif isinstance(m, C2f):\n",
    "                m.forward = m.forward_split\n",
    "\n",
    "    def forward(self, x):\n",
    "        preds, protos = self.model(x)\n",
    "        preds = preds.permute((0, 2, 1))\n",
    "\n",
    "        boxes = preds[:, :, :4]\n",
    "        classes = preds[:, :, 4 : self.nc + 4]\n",
    "        masks = preds[:, :, self.nc + 4 :]\n",
    "\n",
    "        return (\n",
    "            torch.cat(\n",
    "                (\n",
    "                    boxes,\n",
    "                    torch.ones(\n",
    "                        (boxes.shape[0], boxes.shape[1], 1),\n",
    "                        device=boxes.device,\n",
    "                        dtype=boxes.dtype,\n",
    "                    ),\n",
    "                    classes,\n",
    "                    masks,\n",
    "                ),\n",
    "                dim=2,\n",
    "            ),\n",
    "            protos,\n",
    "        )\n",
    "\n",
    "\n",
    "model = WarpModel(\"yolov8l-seg.pt\", 80)\n",
    "with torch.no_grad():\n",
    "    out = model(torch.randn((4, 3, 640, 640)))\n",
    "out[0].shape, out[1].shape\n"
   ]
  },
  {
   "cell_type": "code",
   "execution_count": null,
   "metadata": {},
   "outputs": [],
   "source": []
  }
 ],
 "metadata": {
  "interpreter": {
   "hash": "ee966f0aa6cfdfb63e89a78dcbd934f54d7588ad06e8eeabcebd99375b668414"
  },
  "kernelspec": {
   "display_name": "Python 3.9.12 64-bit ('torch')",
   "language": "python",
   "name": "python3"
  },
  "language_info": {
   "codemirror_mode": {
    "name": "ipython",
    "version": 3
   },
   "file_extension": ".py",
   "mimetype": "text/x-python",
   "name": "python",
   "nbconvert_exporter": "python",
   "pygments_lexer": "ipython3",
   "version": "3.9.12"
  },
  "orig_nbformat": 4
 },
 "nbformat": 4,
 "nbformat_minor": 2
}
